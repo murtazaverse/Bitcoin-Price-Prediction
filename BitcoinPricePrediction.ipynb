{
  "nbformat": 4,
  "nbformat_minor": 0,
  "metadata": {
    "kernelspec": {
      "display_name": "Python 3",
      "language": "python",
      "name": "python3"
    },
    "language_info": {
      "codemirror_mode": {
        "name": "ipython",
        "version": 3
      },
      "file_extension": ".py",
      "mimetype": "text/x-python",
      "name": "python",
      "nbconvert_exporter": "python",
      "pygments_lexer": "ipython3",
      "version": "3.8.2"
    },
    "colab": {
      "name": "BitcoinPricePrediction.ipynb",
      "provenance": [],
      "collapsed_sections": []
    }
  },
  "cells": [
    {
      "cell_type": "markdown",
      "metadata": {
        "collapsed": true,
        "pycharm": {
          "is_executing": false,
          "name": "#%% md\n"
        },
        "id": "O4FoDfF_8i_g"
      },
      "source": [
        "# Predicting the price of Bitcoin, intro to LSTM\n"
      ]
    },
    {
      "cell_type": "markdown",
      "metadata": {
        "id": "hMU0o0eyRPAp"
      },
      "source": [
        "Importing the necessary libraries"
      ]
    },
    {
      "cell_type": "code",
      "metadata": {
        "pycharm": {
          "name": "#%%\n"
        },
        "id": "bvTuG5cy8i_o"
      },
      "source": [
        "#data manipulation libraries\n",
        "import numpy as np \n",
        "import pandas as pd \n",
        "#data visualization libraries\n",
        "from matplotlib import pyplot as plt \n",
        "import seaborn as sns"
      ],
      "execution_count": 1,
      "outputs": []
    },
    {
      "cell_type": "markdown",
      "metadata": {
        "id": "LhpNufly8i_p"
      },
      "source": [
        "## Data Exploration"
      ]
    },
    {
      "cell_type": "markdown",
      "metadata": {
        "id": "jltapKuinSSp"
      },
      "source": [
        "Let’s first load the dataset with Python and take a first look:"
      ]
    },
    {
      "cell_type": "markdown",
      "metadata": {
        "id": "RyK_99GtSBov"
      },
      "source": [
        "The dataset has been downloaded from : https://finance.yahoo.com/quote/BTC-USD/history?p=BTC-USD . You can download your updated dataset from here."
      ]
    },
    {
      "cell_type": "code",
      "metadata": {
        "pycharm": {
          "name": "#%%\n"
        },
        "colab": {
          "base_uri": "https://localhost:8080/",
          "height": 204
        },
        "id": "T0vqD4r-8i_p",
        "outputId": "1def0232-ebc3-42eb-9ea7-97dde4c27f05"
      },
      "source": [
        "#reading the csv file\n",
        "data = pd.read_csv('/content/BTC-USD.csv')\n",
        "#sorting the dataset with respect to Date.\n",
        "data = data.sort_values('Date')\n",
        "#Let's have a sneek peek of the dataset.\n",
        "data.head()"
      ],
      "execution_count": 3,
      "outputs": [
        {
          "output_type": "execute_result",
          "data": {
            "text/html": [
              "<div>\n",
              "<style scoped>\n",
              "    .dataframe tbody tr th:only-of-type {\n",
              "        vertical-align: middle;\n",
              "    }\n",
              "\n",
              "    .dataframe tbody tr th {\n",
              "        vertical-align: top;\n",
              "    }\n",
              "\n",
              "    .dataframe thead th {\n",
              "        text-align: right;\n",
              "    }\n",
              "</style>\n",
              "<table border=\"1\" class=\"dataframe\">\n",
              "  <thead>\n",
              "    <tr style=\"text-align: right;\">\n",
              "      <th></th>\n",
              "      <th>Currency</th>\n",
              "      <th>Date</th>\n",
              "      <th>Closing Price (USD)</th>\n",
              "      <th>24h Open (USD)</th>\n",
              "      <th>24h High (USD)</th>\n",
              "      <th>24h Low (USD)</th>\n",
              "    </tr>\n",
              "  </thead>\n",
              "  <tbody>\n",
              "    <tr>\n",
              "      <th>0</th>\n",
              "      <td>BTC</td>\n",
              "      <td>2013-10-01</td>\n",
              "      <td>123.65499</td>\n",
              "      <td>124.30466</td>\n",
              "      <td>124.75166</td>\n",
              "      <td>122.56349</td>\n",
              "    </tr>\n",
              "    <tr>\n",
              "      <th>1</th>\n",
              "      <td>BTC</td>\n",
              "      <td>2013-10-02</td>\n",
              "      <td>125.45500</td>\n",
              "      <td>123.65499</td>\n",
              "      <td>125.75850</td>\n",
              "      <td>123.63383</td>\n",
              "    </tr>\n",
              "    <tr>\n",
              "      <th>2</th>\n",
              "      <td>BTC</td>\n",
              "      <td>2013-10-03</td>\n",
              "      <td>108.58483</td>\n",
              "      <td>125.45500</td>\n",
              "      <td>125.66566</td>\n",
              "      <td>83.32833</td>\n",
              "    </tr>\n",
              "    <tr>\n",
              "      <th>3</th>\n",
              "      <td>BTC</td>\n",
              "      <td>2013-10-04</td>\n",
              "      <td>118.67466</td>\n",
              "      <td>108.58483</td>\n",
              "      <td>118.67500</td>\n",
              "      <td>107.05816</td>\n",
              "    </tr>\n",
              "    <tr>\n",
              "      <th>4</th>\n",
              "      <td>BTC</td>\n",
              "      <td>2013-10-05</td>\n",
              "      <td>121.33866</td>\n",
              "      <td>118.67466</td>\n",
              "      <td>121.93633</td>\n",
              "      <td>118.00566</td>\n",
              "    </tr>\n",
              "  </tbody>\n",
              "</table>\n",
              "</div>"
            ],
            "text/plain": [
              "  Currency        Date  ...  24h High (USD)  24h Low (USD)\n",
              "0      BTC  2013-10-01  ...       124.75166      122.56349\n",
              "1      BTC  2013-10-02  ...       125.75850      123.63383\n",
              "2      BTC  2013-10-03  ...       125.66566       83.32833\n",
              "3      BTC  2013-10-04  ...       118.67500      107.05816\n",
              "4      BTC  2013-10-05  ...       121.93633      118.00566\n",
              "\n",
              "[5 rows x 6 columns]"
            ]
          },
          "metadata": {},
          "execution_count": 3
        }
      ]
    },
    {
      "cell_type": "code",
      "metadata": {
        "colab": {
          "base_uri": "https://localhost:8080/",
          "height": 204
        },
        "id": "KIHro_oWHLRf",
        "outputId": "2cb90a71-f50c-46a7-d129-9c1f7adcb057"
      },
      "source": [
        "data.tail()"
      ],
      "execution_count": 4,
      "outputs": [
        {
          "output_type": "execute_result",
          "data": {
            "text/html": [
              "<div>\n",
              "<style scoped>\n",
              "    .dataframe tbody tr th:only-of-type {\n",
              "        vertical-align: middle;\n",
              "    }\n",
              "\n",
              "    .dataframe tbody tr th {\n",
              "        vertical-align: top;\n",
              "    }\n",
              "\n",
              "    .dataframe thead th {\n",
              "        text-align: right;\n",
              "    }\n",
              "</style>\n",
              "<table border=\"1\" class=\"dataframe\">\n",
              "  <thead>\n",
              "    <tr style=\"text-align: right;\">\n",
              "      <th></th>\n",
              "      <th>Currency</th>\n",
              "      <th>Date</th>\n",
              "      <th>Closing Price (USD)</th>\n",
              "      <th>24h Open (USD)</th>\n",
              "      <th>24h High (USD)</th>\n",
              "      <th>24h Low (USD)</th>\n",
              "    </tr>\n",
              "  </thead>\n",
              "  <tbody>\n",
              "    <tr>\n",
              "      <th>2750</th>\n",
              "      <td>BTC</td>\n",
              "      <td>2021-04-13</td>\n",
              "      <td>59853.197242</td>\n",
              "      <td>59998.159913</td>\n",
              "      <td>61219.718613</td>\n",
              "      <td>59428.214749</td>\n",
              "    </tr>\n",
              "    <tr>\n",
              "      <th>2751</th>\n",
              "      <td>BTC</td>\n",
              "      <td>2021-04-14</td>\n",
              "      <td>63223.884391</td>\n",
              "      <td>59841.561373</td>\n",
              "      <td>63707.342359</td>\n",
              "      <td>59799.440578</td>\n",
              "    </tr>\n",
              "    <tr>\n",
              "      <th>2752</th>\n",
              "      <td>BTC</td>\n",
              "      <td>2021-04-15</td>\n",
              "      <td>62926.557176</td>\n",
              "      <td>63562.673545</td>\n",
              "      <td>64801.787870</td>\n",
              "      <td>61400.283968</td>\n",
              "    </tr>\n",
              "    <tr>\n",
              "      <th>2753</th>\n",
              "      <td>BTC</td>\n",
              "      <td>2021-04-16</td>\n",
              "      <td>63346.789035</td>\n",
              "      <td>62987.270179</td>\n",
              "      <td>63850.250735</td>\n",
              "      <td>62094.632914</td>\n",
              "    </tr>\n",
              "    <tr>\n",
              "      <th>2754</th>\n",
              "      <td>BTC</td>\n",
              "      <td>2021-04-17</td>\n",
              "      <td>61965.782598</td>\n",
              "      <td>63225.093917</td>\n",
              "      <td>63520.325374</td>\n",
              "      <td>60033.534667</td>\n",
              "    </tr>\n",
              "  </tbody>\n",
              "</table>\n",
              "</div>"
            ],
            "text/plain": [
              "     Currency        Date  ...  24h High (USD)  24h Low (USD)\n",
              "2750      BTC  2021-04-13  ...    61219.718613   59428.214749\n",
              "2751      BTC  2021-04-14  ...    63707.342359   59799.440578\n",
              "2752      BTC  2021-04-15  ...    64801.787870   61400.283968\n",
              "2753      BTC  2021-04-16  ...    63850.250735   62094.632914\n",
              "2754      BTC  2021-04-17  ...    63520.325374   60033.534667\n",
              "\n",
              "[5 rows x 6 columns]"
            ]
          },
          "metadata": {},
          "execution_count": 4
        }
      ]
    },
    {
      "cell_type": "code",
      "metadata": {
        "pycharm": {
          "name": "#%%\n"
        },
        "id": "Iw_z6D9e8i_r",
        "colab": {
          "base_uri": "https://localhost:8080/",
          "height": 624
        },
        "outputId": "fc0cd986-06d4-4dcd-8953-46712c824a3e"
      },
      "source": [
        "#Creating a dataframe for Closing Price (USD) column as it's our target variable to predict.\n",
        "price = data[['Closing Price (USD)']]\n",
        "#Plotting the price for the historical data of bitcoin\n",
        "plt.figure(figsize = (15,9))\n",
        "plt.plot(price)\n",
        "plt.xticks(range(0, data.shape[0],50), data['Date'].loc[::50],rotation=45)\n",
        "plt.title(\"Bitcoin Price\",fontsize=18, fontweight='bold')\n",
        "plt.xlabel('Date',fontsize=18)\n",
        "plt.ylabel('Close Price (USD)',fontsize=18)\n",
        "plt.show()"
      ],
      "execution_count": null,
      "outputs": [
        {
          "output_type": "display_data",
          "data": {
            "image/png": "[encoded data removed]",
            "text/plain": [
              "<Figure size 1080x648 with 1 Axes>"
            ]
          },
          "metadata": {
            "tags": []
          }
        }
      ]
    },
    {
      "cell_type": "markdown",
      "metadata": {
        "id": "e_eAzVGonhDt"
      },
      "source": [
        "A simple .info() over our dataframe gives us some useful information, like the number of entries, and the number of Non-Null entries, which in our case are the same, so nothing else to do here."
      ]
    },
    {
      "cell_type": "code",
      "metadata": {
        "colab": {
          "base_uri": "https://localhost:8080/",
          "height": 402
        },
        "id": "cuyMgAPoc-OD",
        "outputId": "ccc95dd9-de5e-4853-b36e-6737aff99577"
      },
      "source": [
        "#Let's hava a look at the price dataframe\n",
        "price"
      ],
      "execution_count": null,
      "outputs": [
        {
          "output_type": "execute_result",
          "data": {
            "text/html": [
              "<div>\n",
              "<style scoped>\n",
              "    .dataframe tbody tr th:only-of-type {\n",
              "        vertical-align: middle;\n",
              "    }\n",
              "\n",
              "    .dataframe tbody tr th {\n",
              "        vertical-align: top;\n",
              "    }\n",
              "\n",
              "    .dataframe thead th {\n",
              "        text-align: right;\n",
              "    }\n",
              "</style>\n",
              "<table border=\"1\" class=\"dataframe\">\n",
              "  <thead>\n",
              "    <tr style=\"text-align: right;\">\n",
              "      <th></th>\n",
              "      <th>Closing Price (USD)</th>\n",
              "    </tr>\n",
              "  </thead>\n",
              "  <tbody>\n",
              "    <tr>\n",
              "      <th>0</th>\n",
              "      <td>123.654990</td>\n",
              "    </tr>\n",
              "    <tr>\n",
              "      <th>1</th>\n",
              "      <td>125.455000</td>\n",
              "    </tr>\n",
              "    <tr>\n",
              "      <th>2</th>\n",
              "      <td>108.584830</td>\n",
              "    </tr>\n",
              "    <tr>\n",
              "      <th>3</th>\n",
              "      <td>118.674660</td>\n",
              "    </tr>\n",
              "    <tr>\n",
              "      <th>4</th>\n",
              "      <td>121.338660</td>\n",
              "    </tr>\n",
              "    <tr>\n",
              "      <th>...</th>\n",
              "      <td>...</td>\n",
              "    </tr>\n",
              "    <tr>\n",
              "      <th>2750</th>\n",
              "      <td>59853.197242</td>\n",
              "    </tr>\n",
              "    <tr>\n",
              "      <th>2751</th>\n",
              "      <td>63223.884391</td>\n",
              "    </tr>\n",
              "    <tr>\n",
              "      <th>2752</th>\n",
              "      <td>62926.557176</td>\n",
              "    </tr>\n",
              "    <tr>\n",
              "      <th>2753</th>\n",
              "      <td>63346.789035</td>\n",
              "    </tr>\n",
              "    <tr>\n",
              "      <th>2754</th>\n",
              "      <td>61965.782598</td>\n",
              "    </tr>\n",
              "  </tbody>\n",
              "</table>\n",
              "<p>2755 rows × 1 columns</p>\n",
              "</div>"
            ],
            "text/plain": [
              "      Closing Price (USD)\n",
              "0              123.654990\n",
              "1              125.455000\n",
              "2              108.584830\n",
              "3              118.674660\n",
              "4              121.338660\n",
              "...                   ...\n",
              "2750         59853.197242\n",
              "2751         63223.884391\n",
              "2752         62926.557176\n",
              "2753         63346.789035\n",
              "2754         61965.782598\n",
              "\n",
              "[2755 rows x 1 columns]"
            ]
          },
          "metadata": {
            "tags": []
          },
          "execution_count": 73
        }
      ]
    },
    {
      "cell_type": "code",
      "metadata": {
        "pycharm": {
          "name": "#%%\n"
        },
        "id": "yrRTVnld8i_s",
        "colab": {
          "base_uri": "https://localhost:8080/"
        },
        "outputId": "a53ec762-0bc2-4877-c82e-07eb7a3e747f"
      },
      "source": [
        "#Let's have a look at the summary of our price dataframe\n",
        "price.info()"
      ],
      "execution_count": null,
      "outputs": [
        {
          "output_type": "stream",
          "text": [
            "<class 'pandas.core.frame.DataFrame'>\n",
            "Int64Index: 2755 entries, 0 to 2754\n",
            "Data columns (total 1 columns):\n",
            " #   Column               Non-Null Count  Dtype  \n",
            "---  ------               --------------  -----  \n",
            " 0   Closing Price (USD)  2755 non-null   float64\n",
            "dtypes: float64(1)\n",
            "memory usage: 123.0 KB\n"
          ],
          "name": "stdout"
        }
      ]
    },
    {
      "cell_type": "markdown",
      "metadata": {
        "id": "XZuvfBuW8i_s"
      },
      "source": [
        "## Data Preparation"
      ]
    },
    {
      "cell_type": "markdown",
      "metadata": {
        "pycharm": {
          "name": "#%% md\n"
        },
        "id": "eE2GNYFx8i_t"
      },
      "source": [
        "### Normalization"
      ]
    },
    {
      "cell_type": "markdown",
      "metadata": {
        "id": "kxYfbLi7nku8"
      },
      "source": [
        "The first step we will take to our data is to normalize its values. The goal of normalization is to change the values of numeric columns in the data set to a common scale, without distorting differences in the ranges of values.\n",
        "\n",
        "For our purposes, we will use MinMaxScaler from the sklearn library"
      ]
    },
    {
      "cell_type": "code",
      "metadata": {
        "pycharm": {
          "name": "#%%\n"
        },
        "id": "KOnggvY68i_t"
      },
      "source": [
        "from sklearn.preprocessing import MinMaxScaler\n",
        "min_max_scaler = MinMaxScaler()#this by default returns the value between 0-10.\n",
        "norm_data= min_max_scaler.fit_transform(price.values)#fitting these val ues"
      ],
      "execution_count": null,
      "outputs": []
    },
    {
      "cell_type": "code",
      "metadata": {
        "colab": {
          "base_uri": "https://localhost:8080/"
        },
        "id": "VGQKAopKJ6nu",
        "outputId": "48157f67-0b90-4f39-fa95-cde765a51383"
      },
      "source": [
        "norm_data"
      ],
      "execution_count": null,
      "outputs": [
        {
          "output_type": "execute_result",
          "data": {
            "text/plain": [
              "array([[2.38307842e-04],\n",
              "       [2.66771807e-04],\n",
              "       [0.00000000e+00],\n",
              "       ...,\n",
              "       [9.93354779e-01],\n",
              "       [1.00000000e+00],\n",
              "       [9.78161833e-01]])"
            ]
          },
          "metadata": {
            "tags": []
          },
          "execution_count": 83
        }
      ]
    },
    {
      "cell_type": "markdown",
      "metadata": {
        "id": "_6OY_Mannpg7"
      },
      "source": [
        "Let’s try to compare our values before and after normalizing"
      ]
    },
    {
      "cell_type": "code",
      "metadata": {
        "pycharm": {
          "name": "#%%\n"
        },
        "id": "5X3NPxcB8i_t",
        "colab": {
          "base_uri": "https://localhost:8080/"
        },
        "outputId": "b03be0b3-defb-4dca-e1d6-3c1113bad94c"
      },
      "source": [
        "print(f'Real: {price.values[0]}, Normalized: {norm_data[0]}')\n",
        "print(f'Real: {price.values[500]}, Normalized: {norm_data[500]}')\n",
        "print(f'Real: {price.values[900]}, Normalized: {norm_data[900]}')"
      ],
      "execution_count": null,
      "outputs": [
        {
          "output_type": "stream",
          "text": [
            "Real: [123.65499], Normalized: [0.00023831]\n",
            "Real: [223.96716], Normalized: [0.00182457]\n",
            "Real: [407.473], Normalized: [0.00472639]\n"
          ],
          "name": "stdout"
        }
      ]
    },
    {
      "cell_type": "markdown",
      "metadata": {
        "id": "Z4K0PEjg8i_u"
      },
      "source": [
        "### Data split"
      ]
    },
    {
      "cell_type": "markdown",
      "metadata": {
        "id": "E_iHfHlMnvgf"
      },
      "source": [
        "Splitting the Data into training and testing sets.\n",
        "Also i am preparing the data for LSTM network."
      ]
    },
    {
      "cell_type": "markdown",
      "metadata": {
        "id": "iH_RemFsn1Ou"
      },
      "source": [
        "The responsible for this second part will be our univariate_data function:"
      ]
    },
    {
      "cell_type": "code",
      "metadata": {
        "pycharm": {
          "name": "#%% \n"
        },
        "id": "SYwXUAyo8i_u"
      },
      "source": [
        "def univariate_data(dataset, start_index, end_index, history_size, target_size):\n",
        "  data = []\n",
        "  labels = []\n",
        "\n",
        "  start_index = start_index + history_size\n",
        "  if end_index is None:\n",
        "    end_index = len(dataset) - target_size\n",
        "\n",
        "  for i in range(start_index, end_index):\n",
        "    indices = range(i-history_size, i)\n",
        "    # Reshape data from (history_size,) to (history_size, 1)\n",
        "    data.append(np.reshape(dataset[indices], (history_size, 1)))\n",
        "    labels.append(dataset[i+target_size])\n",
        "  return np.array(data), np.array(labels)\n",
        "  \n",
        "past_history = 5\n",
        "future_target = 0\n",
        "#we need to use 5 days of data to learn to predict the next point in the time series 'future_target'.\n",
        "\n",
        "TRAIN_SPLIT = int(len(norm_data) * 0.8)#Last index of the 80% data used for training.\n",
        "\n",
        "\n",
        "x_train, y_train = univariate_data(norm_data,\n",
        "                                   0,\n",
        "                                   TRAIN_SPLIT,\n",
        "                                   past_history,\n",
        "                                   future_target)\n",
        "\n",
        "x_test, y_test = univariate_data(norm_data,\n",
        "                                 TRAIN_SPLIT,\n",
        "                                 None,\n",
        "                                 past_history,\n",
        "                                 future_target)"
      ],
      "execution_count": null,
      "outputs": []
    },
    {
      "cell_type": "markdown",
      "metadata": {
        "id": "LNvuFj3Ln9f8"
      },
      "source": [
        "By using past_history, we call tell our network that we need to use 5 days of data to learn to predict the next point in the time series future_target."
      ]
    },
    {
      "cell_type": "markdown",
      "metadata": {
        "pycharm": {
          "name": "#%% md\n"
        },
        "id": "1Nu_7g7n8i_v"
      },
      "source": [
        "## Build the model"
      ]
    },
    {
      "cell_type": "markdown",
      "metadata": {
        "id": "xhOMLm_xoAyt"
      },
      "source": [
        "The next step is to build our model architecture. Finding the right model is an art, and it will take several tries plus experience to find the right layers and hyper-parameters for each one of them.\n",
        "\n",
        "We won’t go into the details on each layer, there’s enough complexity to write a post for each. But I’ll highlight that the model we built here is fairly simple and pretty standard for this kind of problems, at least in the type of layers used."
      ]
    },
    {
      "cell_type": "markdown",
      "metadata": {
        "id": "BD5igb002mgQ"
      },
      "source": [
        "In the script above, we create an LSTM model with one LSTM layer of 50 neurons and relu activation functions. You can see the input shape is (1,1) since our data has one time-step with one feature."
      ]
    },
    {
      "cell_type": "code",
      "metadata": {
        "pycharm": {
          "name": "#%% \n"
        },
        "id": "8gkMkfs88i_v"
      },
      "source": [
        "import keras\n",
        "from keras.models import Sequential\n",
        "from keras.optimizers import Adam\n",
        "from keras.layers import Dense, LSTM, LeakyReLU, Dropout\n",
        "\n",
        "num_units = 64#Number of neurons\n",
        "learning_rate = 0.0001\n",
        "activation_function = 'sigmoid'\n",
        "adam = Adam(lr=learning_rate)\n",
        "loss_function = 'mse'\n",
        "batch_size = 5\n",
        "num_epochs = 250\n",
        "\n",
        "# Initialize the RNN\n",
        "model = Sequential()\n",
        "#In Keras we can simply stack multiple layers on top of each other, for this we need to initialize the model as Sequential().\n",
        "model.add(LSTM(units = num_units, activation=activation_function, input_shape=(None, 1)))\n",
        "model.add(LeakyReLU(alpha=0.5))\n",
        "model.add(Dropout(0.1))\n",
        "#This layer will help to prevent overfitting by ignoring randomly selected neurons during training, and hence reduces the sensitivity to the specific weights of individual neurons.\n",
        "model.add(Dense(units = 1))#fully conneceted layer\n",
        "\n",
        "\n",
        "# Compiling the RNN\n",
        "model.compile(optimizer=adam, loss=loss_function)"
      ],
      "execution_count": null,
      "outputs": []
    },
    {
      "cell_type": "markdown",
      "metadata": {
        "id": "xVzgjNR-oIQA"
      },
      "source": [
        "Let’s see how our architecture looks like:"
      ]
    },
    {
      "cell_type": "code",
      "metadata": {
        "pycharm": {
          "name": "#%%\n"
        },
        "id": "ZcfNjOIA8i_v",
        "colab": {
          "base_uri": "https://localhost:8080/"
        },
        "outputId": "f3094113-7dd2-43b6-ab55-0e9f24a0e1f4"
      },
      "source": [
        "model.summary()"
      ],
      "execution_count": null,
      "outputs": [
        {
          "output_type": "stream",
          "text": [
            "Model: \"sequential_3\"\n",
            "_________________________________________________________________\n",
            "Layer (type)                 Output Shape              Param #   \n",
            "=================================================================\n",
            "lstm_3 (LSTM)                (None, 64)                16896     \n",
            "_________________________________________________________________\n",
            "leaky_re_lu_3 (LeakyReLU)    (None, 64)                0         \n",
            "_________________________________________________________________\n",
            "dropout_3 (Dropout)          (None, 64)                0         \n",
            "_________________________________________________________________\n",
            "dense_3 (Dense)              (None, 1)                 65        \n",
            "=================================================================\n",
            "Total params: 16,961\n",
            "Trainable params: 16,961\n",
            "Non-trainable params: 0\n",
            "_________________________________________________________________\n"
          ],
          "name": "stdout"
        }
      ]
    },
    {
      "cell_type": "markdown",
      "metadata": {
        "id": "ZUC4tmvJ8i_w"
      },
      "source": [
        "## Train the model"
      ]
    },
    {
      "cell_type": "markdown",
      "metadata": {
        "id": "pIR_slTtoL9-"
      },
      "source": [
        "Now that we have our data ready, and our model compiled, we can start training, and with Keras is as simple as one line of code:"
      ]
    },
    {
      "cell_type": "code",
      "metadata": {
        "pycharm": {
          "name": "#%% \n"
        },
        "id": "X16PQA_m8i_w",
        "colab": {
          "base_uri": "https://localhost:8080/"
        },
        "outputId": "23888863-6f0f-446d-99e7-6a3c69412f4e"
      },
      "source": [
        "# Using the training set to train the model\n",
        "history = model.fit(\n",
        "    x_train,\n",
        "    y_train,\n",
        "    validation_split=0.1,\n",
        "    batch_size=batch_size,\n",
        "    epochs=num_epochs,\n",
        "    shuffle=False\n",
        ")"
      ],
      "execution_count": null,
      "outputs": [
        {
          "output_type": "stream",
          "text": [
            "Epoch 1/250\n",
            "396/396 [==============================] - 3s 5ms/step - loss: 0.0838 - val_loss: 0.0046\n",
            "Epoch 2/250\n",
            "396/396 [==============================] - 2s 4ms/step - loss: 0.0248 - val_loss: 0.0031\n",
            "Epoch 3/250\n",
            "396/396 [==============================] - 2s 4ms/step - loss: 0.0226 - val_loss: 0.0067\n",
            "Epoch 4/250\n",
            "396/396 [==============================] - 2s 4ms/step - loss: 0.0183 - val_loss: 0.0077\n",
            "Epoch 5/250\n",
            "396/396 [==============================] - 2s 4ms/step - loss: 0.0171 - val_loss: 0.0057\n",
            "Epoch 6/250\n",
            "396/396 [==============================] - 1s 4ms/step - loss: 0.0148 - val_loss: 0.0066\n",
            "Epoch 7/250\n",
            "396/396 [==============================] - 1s 4ms/step - loss: 0.0152 - val_loss: 0.0075\n",
            "Epoch 8/250\n",
            "396/396 [==============================] - 2s 4ms/step - loss: 0.0129 - val_loss: 0.0064\n",
            "Epoch 9/250\n",
            "396/396 [==============================] - 2s 4ms/step - loss: 0.0124 - val_loss: 0.0054\n",
            "Epoch 10/250\n",
            "396/396 [==============================] - 1s 4ms/step - loss: 0.0108 - val_loss: 0.0054\n",
            "Epoch 11/250\n",
            "396/396 [==============================] - 1s 4ms/step - loss: 0.0094 - val_loss: 0.0039\n",
            "Epoch 12/250\n",
            "396/396 [==============================] - 2s 4ms/step - loss: 0.0087 - val_loss: 0.0056\n",
            "Epoch 13/250\n",
            "396/396 [==============================] - 2s 4ms/step - loss: 0.0079 - val_loss: 0.0049\n",
            "Epoch 14/250\n",
            "396/396 [==============================] - 2s 4ms/step - loss: 0.0070 - val_loss: 0.0037\n",
            "Epoch 15/250\n",
            "396/396 [==============================] - 2s 4ms/step - loss: 0.0068 - val_loss: 0.0050\n",
            "Epoch 16/250\n",
            "396/396 [==============================] - 1s 4ms/step - loss: 0.0060 - val_loss: 0.0051\n",
            "Epoch 17/250\n",
            "396/396 [==============================] - 2s 4ms/step - loss: 0.0056 - val_loss: 0.0048\n",
            "Epoch 18/250\n",
            "396/396 [==============================] - 2s 4ms/step - loss: 0.0052 - val_loss: 0.0048\n",
            "Epoch 19/250\n",
            "396/396 [==============================] - 2s 4ms/step - loss: 0.0049 - val_loss: 0.0053\n",
            "Epoch 20/250\n",
            "396/396 [==============================] - 2s 4ms/step - loss: 0.0044 - val_loss: 0.0057\n",
            "Epoch 21/250\n",
            "396/396 [==============================] - 2s 4ms/step - loss: 0.0037 - val_loss: 0.0054\n",
            "Epoch 22/250\n",
            "396/396 [==============================] - 2s 4ms/step - loss: 0.0039 - val_loss: 0.0053\n",
            "Epoch 23/250\n",
            "396/396 [==============================] - 2s 4ms/step - loss: 0.0034 - val_loss: 0.0047\n",
            "Epoch 24/250\n",
            "396/396 [==============================] - 2s 4ms/step - loss: 0.0031 - val_loss: 0.0059\n",
            "Epoch 25/250\n",
            "396/396 [==============================] - 2s 4ms/step - loss: 0.0028 - val_loss: 0.0048\n",
            "Epoch 26/250\n",
            "396/396 [==============================] - 2s 4ms/step - loss: 0.0027 - val_loss: 0.0053\n",
            "Epoch 27/250\n",
            "396/396 [==============================] - 2s 4ms/step - loss: 0.0027 - val_loss: 0.0052\n",
            "Epoch 28/250\n",
            "396/396 [==============================] - 1s 4ms/step - loss: 0.0024 - val_loss: 0.0057\n",
            "Epoch 29/250\n",
            "396/396 [==============================] - 1s 4ms/step - loss: 0.0022 - val_loss: 0.0051\n",
            "Epoch 30/250\n",
            "396/396 [==============================] - 1s 4ms/step - loss: 0.0024 - val_loss: 0.0049\n",
            "Epoch 31/250\n",
            "396/396 [==============================] - 2s 4ms/step - loss: 0.0019 - val_loss: 0.0057\n",
            "Epoch 32/250\n",
            "396/396 [==============================] - 1s 4ms/step - loss: 0.0020 - val_loss: 0.0060\n",
            "Epoch 33/250\n",
            "396/396 [==============================] - 2s 4ms/step - loss: 0.0016 - val_loss: 0.0056\n",
            "Epoch 34/250\n",
            "396/396 [==============================] - 2s 4ms/step - loss: 0.0015 - val_loss: 0.0050\n",
            "Epoch 35/250\n",
            "396/396 [==============================] - 2s 4ms/step - loss: 0.0016 - val_loss: 0.0061\n",
            "Epoch 36/250\n",
            "396/396 [==============================] - 2s 4ms/step - loss: 0.0013 - val_loss: 0.0054\n",
            "Epoch 37/250\n",
            "396/396 [==============================] - 1s 4ms/step - loss: 0.0014 - val_loss: 0.0054\n",
            "Epoch 38/250\n",
            "396/396 [==============================] - 2s 4ms/step - loss: 0.0014 - val_loss: 0.0053\n",
            "Epoch 39/250\n",
            "396/396 [==============================] - 1s 4ms/step - loss: 0.0012 - val_loss: 0.0050\n",
            "Epoch 40/250\n",
            "396/396 [==============================] - 2s 4ms/step - loss: 0.0013 - val_loss: 0.0054\n",
            "Epoch 41/250\n",
            "396/396 [==============================] - 2s 4ms/step - loss: 0.0011 - val_loss: 0.0052\n",
            "Epoch 42/250\n",
            "396/396 [==============================] - 1s 4ms/step - loss: 0.0011 - val_loss: 0.0057\n",
            "Epoch 43/250\n",
            "396/396 [==============================] - 2s 4ms/step - loss: 9.7264e-04 - val_loss: 0.0053\n",
            "Epoch 44/250\n",
            "396/396 [==============================] - 1s 4ms/step - loss: 9.8268e-04 - val_loss: 0.0054\n",
            "Epoch 45/250\n",
            "396/396 [==============================] - 1s 4ms/step - loss: 9.6551e-04 - val_loss: 0.0053\n",
            "Epoch 46/250\n",
            "396/396 [==============================] - 2s 4ms/step - loss: 9.8458e-04 - val_loss: 0.0053\n",
            "Epoch 47/250\n",
            "396/396 [==============================] - 2s 4ms/step - loss: 8.9846e-04 - val_loss: 0.0052\n",
            "Epoch 48/250\n",
            "396/396 [==============================] - 1s 4ms/step - loss: 8.9665e-04 - val_loss: 0.0056\n",
            "Epoch 49/250\n",
            "396/396 [==============================] - 1s 4ms/step - loss: 8.3933e-04 - val_loss: 0.0049\n",
            "Epoch 50/250\n",
            "396/396 [==============================] - 2s 4ms/step - loss: 7.8886e-04 - val_loss: 0.0051\n",
            "Epoch 51/250\n",
            "396/396 [==============================] - 2s 4ms/step - loss: 8.5225e-04 - val_loss: 0.0052\n",
            "Epoch 52/250\n",
            "396/396 [==============================] - 1s 4ms/step - loss: 8.2713e-04 - val_loss: 0.0052\n",
            "Epoch 53/250\n",
            "396/396 [==============================] - 2s 4ms/step - loss: 7.7701e-04 - val_loss: 0.0052\n",
            "Epoch 54/250\n",
            "396/396 [==============================] - 1s 4ms/step - loss: 8.3014e-04 - val_loss: 0.0053\n",
            "Epoch 55/250\n",
            "396/396 [==============================] - 2s 4ms/step - loss: 7.3016e-04 - val_loss: 0.0051\n",
            "Epoch 56/250\n",
            "396/396 [==============================] - 2s 4ms/step - loss: 7.4478e-04 - val_loss: 0.0053\n",
            "Epoch 57/250\n",
            "396/396 [==============================] - 2s 4ms/step - loss: 6.8378e-04 - val_loss: 0.0053\n",
            "Epoch 58/250\n",
            "396/396 [==============================] - 2s 4ms/step - loss: 6.7679e-04 - val_loss: 0.0051\n",
            "Epoch 59/250\n",
            "396/396 [==============================] - 2s 4ms/step - loss: 6.9303e-04 - val_loss: 0.0056\n",
            "Epoch 60/250\n",
            "396/396 [==============================] - 2s 4ms/step - loss: 6.1878e-04 - val_loss: 0.0051\n",
            "Epoch 61/250\n",
            "396/396 [==============================] - 2s 4ms/step - loss: 6.8289e-04 - val_loss: 0.0051\n",
            "Epoch 62/250\n",
            "396/396 [==============================] - 2s 4ms/step - loss: 6.9198e-04 - val_loss: 0.0053\n",
            "Epoch 63/250\n",
            "396/396 [==============================] - 2s 4ms/step - loss: 6.9912e-04 - val_loss: 0.0050\n",
            "Epoch 64/250\n",
            "396/396 [==============================] - 2s 4ms/step - loss: 7.2727e-04 - val_loss: 0.0049\n",
            "Epoch 65/250\n",
            "396/396 [==============================] - 2s 4ms/step - loss: 7.0080e-04 - val_loss: 0.0052\n",
            "Epoch 66/250\n",
            "396/396 [==============================] - 2s 4ms/step - loss: 7.0354e-04 - val_loss: 0.0053\n",
            "Epoch 67/250\n",
            "396/396 [==============================] - 2s 4ms/step - loss: 6.2825e-04 - val_loss: 0.0049\n",
            "Epoch 68/250\n",
            "396/396 [==============================] - 2s 4ms/step - loss: 6.6846e-04 - val_loss: 0.0054\n",
            "Epoch 69/250\n",
            "396/396 [==============================] - 2s 4ms/step - loss: 6.1495e-04 - val_loss: 0.0051\n",
            "Epoch 70/250\n",
            "396/396 [==============================] - 2s 4ms/step - loss: 6.9165e-04 - val_loss: 0.0050\n",
            "Epoch 71/250\n",
            "396/396 [==============================] - 2s 4ms/step - loss: 7.1533e-04 - val_loss: 0.0049\n",
            "Epoch 72/250\n",
            "396/396 [==============================] - 2s 4ms/step - loss: 7.4251e-04 - val_loss: 0.0051\n",
            "Epoch 73/250\n",
            "396/396 [==============================] - 2s 4ms/step - loss: 6.3488e-04 - val_loss: 0.0049\n",
            "Epoch 74/250\n",
            "396/396 [==============================] - 2s 4ms/step - loss: 7.0430e-04 - val_loss: 0.0050\n",
            "Epoch 75/250\n",
            "396/396 [==============================] - 2s 4ms/step - loss: 6.5627e-04 - val_loss: 0.0050\n",
            "Epoch 76/250\n",
            "396/396 [==============================] - 2s 4ms/step - loss: 6.7840e-04 - val_loss: 0.0049\n",
            "Epoch 77/250\n",
            "396/396 [==============================] - 1s 4ms/step - loss: 6.9386e-04 - val_loss: 0.0047\n",
            "Epoch 78/250\n",
            "396/396 [==============================] - 1s 4ms/step - loss: 7.2047e-04 - val_loss: 0.0048\n",
            "Epoch 79/250\n",
            "396/396 [==============================] - 2s 4ms/step - loss: 7.2024e-04 - val_loss: 0.0048\n",
            "Epoch 80/250\n",
            "396/396 [==============================] - 2s 4ms/step - loss: 6.9039e-04 - val_loss: 0.0049\n",
            "Epoch 81/250\n",
            "396/396 [==============================] - 2s 4ms/step - loss: 6.8699e-04 - val_loss: 0.0049\n",
            "Epoch 82/250\n",
            "396/396 [==============================] - 2s 4ms/step - loss: 6.8008e-04 - val_loss: 0.0048\n",
            "Epoch 83/250\n",
            "396/396 [==============================] - 2s 4ms/step - loss: 6.9200e-04 - val_loss: 0.0048\n",
            "Epoch 84/250\n",
            "396/396 [==============================] - 2s 4ms/step - loss: 7.2809e-04 - val_loss: 0.0046\n",
            "Epoch 85/250\n",
            "396/396 [==============================] - 2s 4ms/step - loss: 7.2976e-04 - val_loss: 0.0046\n",
            "Epoch 86/250\n",
            "396/396 [==============================] - 2s 4ms/step - loss: 7.5025e-04 - val_loss: 0.0045\n",
            "Epoch 87/250\n",
            "396/396 [==============================] - 2s 4ms/step - loss: 7.5352e-04 - val_loss: 0.0045\n",
            "Epoch 88/250\n",
            "396/396 [==============================] - 2s 4ms/step - loss: 7.4388e-04 - val_loss: 0.0046\n",
            "Epoch 89/250\n",
            "396/396 [==============================] - 2s 4ms/step - loss: 7.6873e-04 - val_loss: 0.0045\n",
            "Epoch 90/250\n",
            "396/396 [==============================] - 2s 4ms/step - loss: 7.6188e-04 - val_loss: 0.0043\n",
            "Epoch 91/250\n",
            "396/396 [==============================] - 2s 4ms/step - loss: 7.6975e-04 - val_loss: 0.0042\n",
            "Epoch 92/250\n",
            "396/396 [==============================] - 2s 4ms/step - loss: 7.8136e-04 - val_loss: 0.0044\n",
            "Epoch 93/250\n",
            "396/396 [==============================] - 2s 4ms/step - loss: 7.7902e-04 - val_loss: 0.0043\n",
            "Epoch 94/250\n",
            "396/396 [==============================] - 2s 4ms/step - loss: 7.7190e-04 - val_loss: 0.0042\n",
            "Epoch 95/250\n",
            "396/396 [==============================] - 2s 4ms/step - loss: 7.8459e-04 - val_loss: 0.0042\n",
            "Epoch 96/250\n",
            "396/396 [==============================] - 1s 4ms/step - loss: 8.1017e-04 - val_loss: 0.0043\n",
            "Epoch 97/250\n",
            "396/396 [==============================] - 2s 4ms/step - loss: 8.0451e-04 - val_loss: 0.0042\n",
            "Epoch 98/250\n",
            "396/396 [==============================] - 2s 4ms/step - loss: 8.0973e-04 - val_loss: 0.0043\n",
            "Epoch 99/250\n",
            "396/396 [==============================] - 2s 4ms/step - loss: 7.7424e-04 - val_loss: 0.0041\n",
            "Epoch 100/250\n",
            "396/396 [==============================] - 2s 4ms/step - loss: 8.4103e-04 - val_loss: 0.0040\n",
            "Epoch 101/250\n",
            "396/396 [==============================] - 2s 4ms/step - loss: 8.6028e-04 - val_loss: 0.0039\n",
            "Epoch 102/250\n",
            "396/396 [==============================] - 2s 4ms/step - loss: 8.9373e-04 - val_loss: 0.0038\n",
            "Epoch 103/250\n",
            "396/396 [==============================] - 2s 4ms/step - loss: 9.2344e-04 - val_loss: 0.0040\n",
            "Epoch 104/250\n",
            "396/396 [==============================] - 2s 4ms/step - loss: 8.2475e-04 - val_loss: 0.0038\n",
            "Epoch 105/250\n",
            "396/396 [==============================] - 2s 4ms/step - loss: 8.8435e-04 - val_loss: 0.0038\n",
            "Epoch 106/250\n",
            "396/396 [==============================] - 2s 4ms/step - loss: 8.9384e-04 - val_loss: 0.0038\n",
            "Epoch 107/250\n",
            "396/396 [==============================] - 2s 4ms/step - loss: 9.1029e-04 - val_loss: 0.0037\n",
            "Epoch 108/250\n",
            "396/396 [==============================] - 2s 4ms/step - loss: 9.4023e-04 - val_loss: 0.0037\n",
            "Epoch 109/250\n",
            "396/396 [==============================] - 2s 4ms/step - loss: 9.1373e-04 - val_loss: 0.0036\n",
            "Epoch 110/250\n",
            "396/396 [==============================] - 2s 4ms/step - loss: 9.6222e-04 - val_loss: 0.0036\n",
            "Epoch 111/250\n",
            "396/396 [==============================] - 2s 4ms/step - loss: 9.3459e-04 - val_loss: 0.0035\n",
            "Epoch 112/250\n",
            "396/396 [==============================] - 2s 4ms/step - loss: 0.0010 - val_loss: 0.0035\n",
            "Epoch 113/250\n",
            "396/396 [==============================] - 2s 4ms/step - loss: 9.9742e-04 - val_loss: 0.0034\n",
            "Epoch 114/250\n",
            "396/396 [==============================] - 2s 4ms/step - loss: 0.0010 - val_loss: 0.0035\n",
            "Epoch 115/250\n",
            "396/396 [==============================] - 1s 4ms/step - loss: 0.0010 - val_loss: 0.0034\n",
            "Epoch 116/250\n",
            "396/396 [==============================] - 2s 4ms/step - loss: 0.0010 - val_loss: 0.0033\n",
            "Epoch 117/250\n",
            "396/396 [==============================] - 2s 4ms/step - loss: 0.0011 - val_loss: 0.0033\n",
            "Epoch 118/250\n",
            "396/396 [==============================] - 2s 4ms/step - loss: 0.0011 - val_loss: 0.0033\n",
            "Epoch 119/250\n",
            "396/396 [==============================] - 1s 4ms/step - loss: 0.0011 - val_loss: 0.0033\n",
            "Epoch 120/250\n",
            "396/396 [==============================] - 2s 4ms/step - loss: 0.0011 - val_loss: 0.0033\n",
            "Epoch 121/250\n",
            "396/396 [==============================] - 2s 4ms/step - loss: 0.0011 - val_loss: 0.0032\n",
            "Epoch 122/250\n",
            "396/396 [==============================] - 2s 4ms/step - loss: 0.0011 - val_loss: 0.0031\n",
            "Epoch 123/250\n",
            "396/396 [==============================] - 2s 4ms/step - loss: 0.0011 - val_loss: 0.0030\n",
            "Epoch 124/250\n",
            "396/396 [==============================] - 1s 4ms/step - loss: 0.0011 - val_loss: 0.0030\n",
            "Epoch 125/250\n",
            "396/396 [==============================] - 2s 4ms/step - loss: 0.0012 - val_loss: 0.0031\n",
            "Epoch 126/250\n",
            "396/396 [==============================] - 1s 4ms/step - loss: 0.0011 - val_loss: 0.0030\n",
            "Epoch 127/250\n",
            "396/396 [==============================] - 2s 4ms/step - loss: 0.0012 - val_loss: 0.0030\n",
            "Epoch 128/250\n",
            "396/396 [==============================] - 2s 4ms/step - loss: 0.0012 - val_loss: 0.0029\n",
            "Epoch 129/250\n",
            "396/396 [==============================] - 2s 4ms/step - loss: 0.0012 - val_loss: 0.0029\n",
            "Epoch 130/250\n",
            "396/396 [==============================] - 2s 4ms/step - loss: 0.0012 - val_loss: 0.0028\n",
            "Epoch 131/250\n",
            "396/396 [==============================] - 2s 4ms/step - loss: 0.0012 - val_loss: 0.0028\n",
            "Epoch 132/250\n",
            "396/396 [==============================] - 2s 4ms/step - loss: 0.0012 - val_loss: 0.0028\n",
            "Epoch 133/250\n",
            "396/396 [==============================] - 2s 4ms/step - loss: 0.0012 - val_loss: 0.0028\n",
            "Epoch 134/250\n",
            "396/396 [==============================] - 2s 4ms/step - loss: 0.0012 - val_loss: 0.0028\n",
            "Epoch 135/250\n",
            "396/396 [==============================] - 2s 4ms/step - loss: 0.0012 - val_loss: 0.0027\n",
            "Epoch 136/250\n",
            "396/396 [==============================] - 2s 4ms/step - loss: 0.0012 - val_loss: 0.0027\n",
            "Epoch 137/250\n",
            "396/396 [==============================] - 2s 4ms/step - loss: 0.0012 - val_loss: 0.0027\n",
            "Epoch 138/250\n",
            "396/396 [==============================] - 1s 4ms/step - loss: 0.0013 - val_loss: 0.0027\n",
            "Epoch 139/250\n",
            "396/396 [==============================] - 2s 4ms/step - loss: 0.0013 - val_loss: 0.0026\n",
            "Epoch 140/250\n",
            "396/396 [==============================] - 2s 4ms/step - loss: 0.0013 - val_loss: 0.0026\n",
            "Epoch 141/250\n",
            "396/396 [==============================] - 2s 4ms/step - loss: 0.0012 - val_loss: 0.0027\n",
            "Epoch 142/250\n",
            "396/396 [==============================] - 2s 4ms/step - loss: 0.0012 - val_loss: 0.0025\n",
            "Epoch 143/250\n",
            "396/396 [==============================] - 2s 4ms/step - loss: 0.0013 - val_loss: 0.0025\n",
            "Epoch 144/250\n",
            "396/396 [==============================] - 2s 4ms/step - loss: 0.0013 - val_loss: 0.0026\n",
            "Epoch 145/250\n",
            "396/396 [==============================] - 2s 4ms/step - loss: 0.0013 - val_loss: 0.0026\n",
            "Epoch 146/250\n",
            "396/396 [==============================] - 2s 4ms/step - loss: 0.0013 - val_loss: 0.0025\n",
            "Epoch 147/250\n",
            "396/396 [==============================] - 2s 4ms/step - loss: 0.0013 - val_loss: 0.0025\n",
            "Epoch 148/250\n",
            "396/396 [==============================] - 2s 4ms/step - loss: 0.0014 - val_loss: 0.0024\n",
            "Epoch 149/250\n",
            "396/396 [==============================] - 2s 4ms/step - loss: 0.0013 - val_loss: 0.0025\n",
            "Epoch 150/250\n",
            "396/396 [==============================] - 2s 4ms/step - loss: 0.0013 - val_loss: 0.0025\n",
            "Epoch 151/250\n",
            "396/396 [==============================] - 2s 4ms/step - loss: 0.0013 - val_loss: 0.0025\n",
            "Epoch 152/250\n",
            "396/396 [==============================] - 2s 4ms/step - loss: 0.0013 - val_loss: 0.0025\n",
            "Epoch 153/250\n",
            "396/396 [==============================] - 2s 4ms/step - loss: 0.0013 - val_loss: 0.0024\n",
            "Epoch 154/250\n",
            "396/396 [==============================] - 1s 4ms/step - loss: 0.0013 - val_loss: 0.0024\n",
            "Epoch 155/250\n",
            "396/396 [==============================] - 2s 4ms/step - loss: 0.0013 - val_loss: 0.0025\n",
            "Epoch 156/250\n",
            "396/396 [==============================] - 2s 4ms/step - loss: 0.0013 - val_loss: 0.0024\n",
            "Epoch 157/250\n",
            "396/396 [==============================] - 2s 4ms/step - loss: 0.0012 - val_loss: 0.0024\n",
            "Epoch 158/250\n",
            "396/396 [==============================] - 2s 4ms/step - loss: 0.0012 - val_loss: 0.0024\n",
            "Epoch 159/250\n",
            "396/396 [==============================] - 2s 4ms/step - loss: 0.0013 - val_loss: 0.0024\n",
            "Epoch 160/250\n",
            "396/396 [==============================] - 2s 4ms/step - loss: 0.0013 - val_loss: 0.0024\n",
            "Epoch 161/250\n",
            "396/396 [==============================] - 2s 4ms/step - loss: 0.0012 - val_loss: 0.0023\n",
            "Epoch 162/250\n",
            "396/396 [==============================] - 2s 4ms/step - loss: 0.0013 - val_loss: 0.0023\n",
            "Epoch 163/250\n",
            "396/396 [==============================] - 2s 4ms/step - loss: 0.0013 - val_loss: 0.0024\n",
            "Epoch 164/250\n",
            "396/396 [==============================] - 2s 4ms/step - loss: 0.0012 - val_loss: 0.0023\n",
            "Epoch 165/250\n",
            "396/396 [==============================] - 2s 4ms/step - loss: 0.0013 - val_loss: 0.0023\n",
            "Epoch 166/250\n",
            "396/396 [==============================] - 2s 4ms/step - loss: 0.0012 - val_loss: 0.0022\n",
            "Epoch 167/250\n",
            "396/396 [==============================] - 2s 4ms/step - loss: 0.0012 - val_loss: 0.0023\n",
            "Epoch 168/250\n",
            "396/396 [==============================] - 2s 4ms/step - loss: 0.0012 - val_loss: 0.0022\n",
            "Epoch 169/250\n",
            "396/396 [==============================] - 2s 4ms/step - loss: 0.0013 - val_loss: 0.0023\n",
            "Epoch 170/250\n",
            "396/396 [==============================] - 2s 4ms/step - loss: 0.0012 - val_loss: 0.0022\n",
            "Epoch 171/250\n",
            "396/396 [==============================] - 2s 4ms/step - loss: 0.0013 - val_loss: 0.0022\n",
            "Epoch 172/250\n",
            "396/396 [==============================] - 2s 4ms/step - loss: 0.0012 - val_loss: 0.0022\n",
            "Epoch 173/250\n",
            "396/396 [==============================] - 2s 4ms/step - loss: 0.0012 - val_loss: 0.0022\n",
            "Epoch 174/250\n",
            "396/396 [==============================] - 2s 4ms/step - loss: 0.0011 - val_loss: 0.0022\n",
            "Epoch 175/250\n",
            "396/396 [==============================] - 2s 4ms/step - loss: 0.0012 - val_loss: 0.0022\n",
            "Epoch 176/250\n",
            "396/396 [==============================] - 2s 4ms/step - loss: 0.0012 - val_loss: 0.0022\n",
            "Epoch 177/250\n",
            "396/396 [==============================] - 2s 4ms/step - loss: 0.0011 - val_loss: 0.0021\n",
            "Epoch 178/250\n",
            "396/396 [==============================] - 2s 4ms/step - loss: 0.0011 - val_loss: 0.0022\n",
            "Epoch 179/250\n",
            "396/396 [==============================] - 2s 4ms/step - loss: 0.0011 - val_loss: 0.0021\n",
            "Epoch 180/250\n",
            "396/396 [==============================] - 2s 4ms/step - loss: 0.0011 - val_loss: 0.0021\n",
            "Epoch 181/250\n",
            "396/396 [==============================] - 2s 4ms/step - loss: 0.0011 - val_loss: 0.0021\n",
            "Epoch 182/250\n",
            "396/396 [==============================] - 2s 4ms/step - loss: 0.0010 - val_loss: 0.0021\n",
            "Epoch 183/250\n",
            "396/396 [==============================] - 1s 4ms/step - loss: 0.0010 - val_loss: 0.0020\n",
            "Epoch 184/250\n",
            "396/396 [==============================] - 2s 4ms/step - loss: 0.0010 - val_loss: 0.0020\n",
            "Epoch 185/250\n",
            "396/396 [==============================] - 2s 4ms/step - loss: 0.0010 - val_loss: 0.0020\n",
            "Epoch 186/250\n",
            "396/396 [==============================] - 2s 4ms/step - loss: 0.0010 - val_loss: 0.0020\n",
            "Epoch 187/250\n",
            "396/396 [==============================] - 2s 4ms/step - loss: 9.6575e-04 - val_loss: 0.0020\n",
            "Epoch 188/250\n",
            "396/396 [==============================] - 2s 4ms/step - loss: 9.4195e-04 - val_loss: 0.0020\n",
            "Epoch 189/250\n",
            "396/396 [==============================] - 2s 4ms/step - loss: 9.1526e-04 - val_loss: 0.0020\n",
            "Epoch 190/250\n",
            "396/396 [==============================] - 2s 4ms/step - loss: 9.0154e-04 - val_loss: 0.0020\n",
            "Epoch 191/250\n",
            "396/396 [==============================] - 2s 4ms/step - loss: 8.6493e-04 - val_loss: 0.0019\n",
            "Epoch 192/250\n",
            "396/396 [==============================] - 1s 4ms/step - loss: 9.1754e-04 - val_loss: 0.0019\n",
            "Epoch 193/250\n",
            "396/396 [==============================] - 2s 4ms/step - loss: 8.4284e-04 - val_loss: 0.0020\n",
            "Epoch 194/250\n",
            "396/396 [==============================] - 2s 4ms/step - loss: 8.2714e-04 - val_loss: 0.0020\n",
            "Epoch 195/250\n",
            "396/396 [==============================] - 2s 4ms/step - loss: 7.9229e-04 - val_loss: 0.0020\n",
            "Epoch 196/250\n",
            "396/396 [==============================] - 2s 4ms/step - loss: 8.5251e-04 - val_loss: 0.0019\n",
            "Epoch 197/250\n",
            "396/396 [==============================] - 2s 4ms/step - loss: 7.8847e-04 - val_loss: 0.0020\n",
            "Epoch 198/250\n",
            "396/396 [==============================] - 2s 4ms/step - loss: 7.4693e-04 - val_loss: 0.0019\n",
            "Epoch 199/250\n",
            "396/396 [==============================] - 2s 5ms/step - loss: 7.7167e-04 - val_loss: 0.0019\n",
            "Epoch 200/250\n",
            "396/396 [==============================] - 2s 4ms/step - loss: 7.4173e-04 - val_loss: 0.0019\n",
            "Epoch 201/250\n",
            "396/396 [==============================] - 2s 4ms/step - loss: 7.3139e-04 - val_loss: 0.0019\n",
            "Epoch 202/250\n",
            "396/396 [==============================] - 2s 4ms/step - loss: 6.6959e-04 - val_loss: 0.0018\n",
            "Epoch 203/250\n",
            "396/396 [==============================] - 2s 4ms/step - loss: 6.8083e-04 - val_loss: 0.0018\n",
            "Epoch 204/250\n",
            "396/396 [==============================] - 2s 4ms/step - loss: 6.8760e-04 - val_loss: 0.0019\n",
            "Epoch 205/250\n",
            "396/396 [==============================] - 2s 4ms/step - loss: 6.4067e-04 - val_loss: 0.0018\n",
            "Epoch 206/250\n",
            "396/396 [==============================] - 2s 4ms/step - loss: 6.3932e-04 - val_loss: 0.0018\n",
            "Epoch 207/250\n",
            "396/396 [==============================] - 2s 4ms/step - loss: 6.4411e-04 - val_loss: 0.0018\n",
            "Epoch 208/250\n",
            "396/396 [==============================] - 2s 4ms/step - loss: 6.0137e-04 - val_loss: 0.0018\n",
            "Epoch 209/250\n",
            "396/396 [==============================] - 2s 4ms/step - loss: 6.0605e-04 - val_loss: 0.0019\n",
            "Epoch 210/250\n",
            "396/396 [==============================] - 2s 4ms/step - loss: 5.7975e-04 - val_loss: 0.0018\n",
            "Epoch 211/250\n",
            "396/396 [==============================] - 2s 4ms/step - loss: 5.5218e-04 - val_loss: 0.0017\n",
            "Epoch 212/250\n",
            "396/396 [==============================] - 2s 4ms/step - loss: 5.5129e-04 - val_loss: 0.0017\n",
            "Epoch 213/250\n",
            "396/396 [==============================] - 2s 4ms/step - loss: 5.1844e-04 - val_loss: 0.0017\n",
            "Epoch 214/250\n",
            "396/396 [==============================] - 2s 4ms/step - loss: 5.1602e-04 - val_loss: 0.0018\n",
            "Epoch 215/250\n",
            "396/396 [==============================] - 2s 4ms/step - loss: 4.7296e-04 - val_loss: 0.0017\n",
            "Epoch 216/250\n",
            "396/396 [==============================] - 2s 4ms/step - loss: 4.9015e-04 - val_loss: 0.0017\n",
            "Epoch 217/250\n",
            "396/396 [==============================] - 2s 4ms/step - loss: 4.5928e-04 - val_loss: 0.0016\n",
            "Epoch 218/250\n",
            "396/396 [==============================] - 2s 4ms/step - loss: 4.1634e-04 - val_loss: 0.0016\n",
            "Epoch 219/250\n",
            "396/396 [==============================] - 2s 4ms/step - loss: 4.5828e-04 - val_loss: 0.0016\n",
            "Epoch 220/250\n",
            "396/396 [==============================] - 2s 4ms/step - loss: 4.5640e-04 - val_loss: 0.0017\n",
            "Epoch 221/250\n",
            "396/396 [==============================] - 2s 4ms/step - loss: 3.9446e-04 - val_loss: 0.0017\n",
            "Epoch 222/250\n",
            "396/396 [==============================] - 2s 4ms/step - loss: 4.0412e-04 - val_loss: 0.0016\n",
            "Epoch 223/250\n",
            "396/396 [==============================] - 2s 4ms/step - loss: 3.8804e-04 - val_loss: 0.0016\n",
            "Epoch 224/250\n",
            "396/396 [==============================] - 2s 4ms/step - loss: 3.8697e-04 - val_loss: 0.0016\n",
            "Epoch 225/250\n",
            "396/396 [==============================] - 2s 4ms/step - loss: 3.5222e-04 - val_loss: 0.0017\n",
            "Epoch 226/250\n",
            "396/396 [==============================] - 2s 4ms/step - loss: 3.3473e-04 - val_loss: 0.0016\n",
            "Epoch 227/250\n",
            "396/396 [==============================] - 2s 4ms/step - loss: 3.3616e-04 - val_loss: 0.0016\n",
            "Epoch 228/250\n",
            "396/396 [==============================] - 1s 4ms/step - loss: 3.4143e-04 - val_loss: 0.0016\n",
            "Epoch 229/250\n",
            "396/396 [==============================] - 2s 4ms/step - loss: 3.3285e-04 - val_loss: 0.0015\n",
            "Epoch 230/250\n",
            "396/396 [==============================] - 2s 4ms/step - loss: 3.0180e-04 - val_loss: 0.0014\n",
            "Epoch 231/250\n",
            "396/396 [==============================] - 2s 4ms/step - loss: 3.0912e-04 - val_loss: 0.0015\n",
            "Epoch 232/250\n",
            "396/396 [==============================] - 2s 4ms/step - loss: 3.1286e-04 - val_loss: 0.0015\n",
            "Epoch 233/250\n",
            "396/396 [==============================] - 2s 4ms/step - loss: 2.8419e-04 - val_loss: 0.0015\n",
            "Epoch 234/250\n",
            "396/396 [==============================] - 2s 4ms/step - loss: 2.8016e-04 - val_loss: 0.0015\n",
            "Epoch 235/250\n",
            "396/396 [==============================] - 2s 4ms/step - loss: 2.7032e-04 - val_loss: 0.0014\n",
            "Epoch 236/250\n",
            "396/396 [==============================] - 2s 4ms/step - loss: 2.7129e-04 - val_loss: 0.0014\n",
            "Epoch 237/250\n",
            "396/396 [==============================] - 2s 4ms/step - loss: 2.8462e-04 - val_loss: 0.0013\n",
            "Epoch 238/250\n",
            "396/396 [==============================] - 2s 4ms/step - loss: 2.8946e-04 - val_loss: 0.0013\n",
            "Epoch 239/250\n",
            "396/396 [==============================] - 2s 4ms/step - loss: 2.7840e-04 - val_loss: 0.0013\n",
            "Epoch 240/250\n",
            "396/396 [==============================] - 2s 4ms/step - loss: 2.4059e-04 - val_loss: 0.0014\n",
            "Epoch 241/250\n",
            "396/396 [==============================] - 2s 4ms/step - loss: 2.3586e-04 - val_loss: 0.0013\n",
            "Epoch 242/250\n",
            "396/396 [==============================] - 2s 4ms/step - loss: 2.2853e-04 - val_loss: 0.0014\n",
            "Epoch 243/250\n",
            "396/396 [==============================] - 2s 4ms/step - loss: 2.1915e-04 - val_loss: 0.0013\n",
            "Epoch 244/250\n",
            "396/396 [==============================] - 2s 4ms/step - loss: 2.1822e-04 - val_loss: 0.0013\n",
            "Epoch 245/250\n",
            "396/396 [==============================] - 2s 4ms/step - loss: 2.4786e-04 - val_loss: 0.0012\n",
            "Epoch 246/250\n",
            "396/396 [==============================] - 2s 4ms/step - loss: 2.2325e-04 - val_loss: 0.0012\n",
            "Epoch 247/250\n",
            "396/396 [==============================] - 2s 4ms/step - loss: 2.1011e-04 - val_loss: 0.0012\n",
            "Epoch 248/250\n",
            "396/396 [==============================] - 1s 4ms/step - loss: 2.1597e-04 - val_loss: 0.0010\n",
            "Epoch 249/250\n",
            "396/396 [==============================] - 2s 4ms/step - loss: 2.1872e-04 - val_loss: 0.0012\n",
            "Epoch 250/250\n",
            "396/396 [==============================] - 2s 4ms/step - loss: 1.9552e-04 - val_loss: 0.0011\n"
          ],
          "name": "stdout"
        }
      ]
    },
    {
      "cell_type": "markdown",
      "metadata": {
        "id": "0hMCZtu6oRFC"
      },
      "source": [
        "Finding the right hyper-parameters here is also part of the art, however, it is very important that the parameter shuffle is set to False. Our analysis depends completely on the order of the information, if we change the order our results will make no sense at all.\n",
        "\n",
        "Training for this model is something you can do, even without GPU, the amount of data is very low, and the network architecture is very simple. On more advanced models, and with more granular information, these models can take hours or days to train.\n",
        "\n",
        "After you finish training, it’s important that we evaluate the result of our training, did we do good? what’s our training loss and validation loss function look like? If something doesn’t look right, then you probably need to go back to the previous steps and play with you hyper-parameters, or maybe even revise your model architecture.\n",
        "\n",
        "Here is a nice chart you can use to compare both functions:"
      ]
    },
    {
      "cell_type": "code",
      "metadata": {
        "pycharm": {
          "name": "#%%\n"
        },
        "id": "3xPxgUgk8i_w",
        "colab": {
          "base_uri": "https://localhost:8080/",
          "height": 556
        },
        "outputId": "2e65c711-82f0-426f-9391-734d1b147703"
      },
      "source": [
        "loss = history.history['loss']\n",
        "val_loss = history.history['val_loss']\n",
        "\n",
        "epochs = range(len(loss))\n",
        "\n",
        "\n",
        "plt.figure(figsize = (15,9))\n",
        "\n",
        "plt.plot(epochs, loss, 'b', label='Training loss')\n",
        "plt.plot(epochs, val_loss, 'r', label='Validation loss')\n",
        "plt.title(\"Training and Validation Loss\")\n",
        "plt.legend()\n",
        "\n",
        "plt.show()"
      ],
      "execution_count": null,
      "outputs": [
        {
          "output_type": "display_data",
          "data": {
            "image/png": "[encoded data removed]",
            "text/plain": [
              "<Figure size 1080x648 with 1 Axes>"
            ]
          },
          "metadata": {
            "tags": []
          }
        }
      ]
    },
    {
      "cell_type": "markdown",
      "metadata": {
        "pycharm": {
          "name": "#%% md\n"
        },
        "id": "GQ220gu58i_x"
      },
      "source": [
        "## Prediction\n",
        "For each of the items we used for the validation, let's now predict them so we can compare how well we did."
      ]
    },
    {
      "cell_type": "markdown",
      "metadata": {
        "id": "sxUTE03cofda"
      },
      "source": [
        "With our model now trained, we can start making some predictions and evaluating those predictions to our test data to see how well our model is doing:"
      ]
    },
    {
      "cell_type": "code",
      "metadata": {
        "pycharm": {
          "name": "#%%\n"
        },
        "id": "Ss7skmYC8i_x",
        "colab": {
          "base_uri": "https://localhost:8080/",
          "height": 651
        },
        "outputId": "2be85540-ef07-4e10-be3a-f9c2cb0b67d7"
      },
      "source": [
        "original = pd.DataFrame(min_max_scaler.inverse_transform(y_test))\n",
        "predictions = pd.DataFrame(min_max_scaler.inverse_transform(model.predict(x_test)))\n",
        "sns.set(rc={'figure.figsize':(11.7+2,8.27+2)})\n",
        "ax = sns.lineplot(x=original.index, y=original[0], label=\"Test Data\", color='royalblue')\n",
        "ax = sns.lineplot(x=predictions.index, y=predictions[0], label=\"Prediction\", color='tomato')\n",
        "ax.set_title('Bitcoin price', size = 14, fontweight='bold')\n",
        "ax.set_xlabel(\"Days\", size = 14)\n",
        "ax.set_ylabel(\"Cost (USD)\", size = 14)\n",
        "ax.set_xticklabels('', size=10)"
      ],
      "execution_count": null,
      "outputs": [
        {
          "output_type": "execute_result",
          "data": {
            "text/plain": [
              "[]"
            ]
          },
          "metadata": {
            "tags": []
          },
          "execution_count": 82
        },
        {
          "output_type": "display_data",
          "data": {
            "image/png": "[encoded data removed]",
            "text/plain": [
              "<Figure size 986.4x739.44 with 1 Axes>"
            ]
          },
          "metadata": {
            "tags": []
          }
        }
      ]
    },
    {
      "cell_type": "markdown",
      "metadata": {
        "id": "oAxDJ2aSnCvc"
      },
      "source": [
        ""
      ]
    }
  ]
}